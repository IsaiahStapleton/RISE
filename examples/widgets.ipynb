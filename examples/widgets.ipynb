{
 "cells": [
  {
   "cell_type": "markdown",
   "id": "2640fd82-24a2-48c1-930d-fb547c031abc",
   "metadata": {
    "slideshow": {
     "slide_type": "slide"
    },
    "tags": []
   },
   "source": [
    "# RISE with widgets\n",
    "\n",
    "This demonstrates the usage of RISE with widgets."
   ]
  },
  {
   "cell_type": "code",
   "execution_count": 1,
   "id": "37621576-aae0-4acb-a3a5-eb9f7eee8e80",
   "metadata": {},
   "outputs": [],
   "source": [
    "import numpy as np\n",
    "import bqplot.pyplot as plt\n",
    "import ipywidgets as ipy"
   ]
  },
  {
   "cell_type": "markdown",
   "id": "65c191e3-e5a1-455d-90fe-a9f6c93c159c",
   "metadata": {
    "slideshow": {
     "slide_type": "slide"
    },
    "tags": []
   },
   "source": [
    "## ipywidgets"
   ]
  },
  {
   "cell_type": "code",
   "execution_count": 2,
   "id": "e5a0043c-24ce-44a7-8174-84c38326b5e4",
   "metadata": {
    "tags": []
   },
   "outputs": [
    {
     "data": {
      "application/vnd.jupyter.widget-view+json": {
       "model_id": "19fdf6cee8624ee9a831b2a3eced587e",
       "version_major": 2,
       "version_minor": 0
      },
      "text/plain": [
       "IntSlider(value=0, description='This is Label')"
      ]
     },
     "metadata": {},
     "output_type": "display_data"
    }
   ],
   "source": [
    "ipy.IntSlider(description=\"This is Label\")"
   ]
  },
  {
   "cell_type": "markdown",
   "id": "b4444583-af5c-4a98-a689-f42e30295054",
   "metadata": {
    "slideshow": {
     "slide_type": "slide"
    },
    "tags": []
   },
   "source": [
    "## bqplot"
   ]
  },
  {
   "cell_type": "code",
   "execution_count": 3,
   "id": "af4d1af3-4c6c-4ab1-a0b0-518ae982d216",
   "metadata": {},
   "outputs": [],
   "source": [
    "size = 100\n",
    "scale = 100.\n",
    "np.random.seed(0)\n",
    "x_data = np.arange(size)\n",
    "y_data = np.cumsum(np.random.randn(size)  * scale)"
   ]
  },
  {
   "cell_type": "code",
   "execution_count": 4,
   "id": "a157ff3a-d7d4-4be6-bfef-34772606666f",
   "metadata": {
    "tags": []
   },
   "outputs": [
    {
     "data": {
      "application/vnd.jupyter.widget-view+json": {
       "model_id": "31aeb55c051f4cf6a45efcb6b5a86faa",
       "version_major": 2,
       "version_minor": 0
      },
      "text/plain": [
       "Figure(axes=[Axis(scale=LinearScale()), Axis(orientation='vertical', scale=LinearScale())], fig_margin={'top':…"
      ]
     },
     "metadata": {},
     "output_type": "display_data"
    }
   ],
   "source": [
    "fig = plt.figure()\n",
    "axes_options = {'x': {'label': 'Date', 'tick_format': '%m/%d'},\n",
    "                'y': {'label': 'Price', 'tick_format': '0.0f'}}\n",
    "\n",
    "plt.scatter(x_data, y_data, colors=['red'], stroke='black')\n",
    "fig"
   ]
  }
 ],
 "metadata": {
  "kernelspec": {
   "display_name": "Python 3 (ipykernel)",
   "language": "python",
   "name": "python3"
  },
  "language_info": {
   "codemirror_mode": {
    "name": "ipython",
    "version": 3
   },
   "file_extension": ".py",
   "mimetype": "text/x-python",
   "name": "python",
   "nbconvert_exporter": "python",
   "pygments_lexer": "ipython3",
   "version": "3.9.7"
  }
 },
 "nbformat": 4,
 "nbformat_minor": 5
}
